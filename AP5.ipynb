{
 "cells": [
  {
   "cell_type": "markdown",
   "metadata": {},
   "source": [
    "# Exercício 1"
   ]
  },
  {
   "cell_type": "markdown",
   "metadata": {},
   "source": [
    "Façamos nossa função de decomposição $QR$ com Gram-Schmidt."
   ]
  },
  {
   "cell_type": "code",
   "execution_count": 88,
   "metadata": {},
   "outputs": [],
   "source": [
    "// Função de decomposição QR de Gram-Schmidt\n",
    "function [Q, R] = qr_GS(A)\n",
    "    // Pegando as dimensões da A\n",
    "    [m, n] = size(A)\n",
    "    // Inicializando as matrizes Q e R\n",
    "    Q = zeros(m, n)\n",
    "    R = zeros(n, n)\n",
    "\n",
    "    // Para cada coluna...\n",
    "    for j = 1:n\n",
    "        // Inicializa o vetor v como a coluna de A\n",
    "        v = A(:, j)\n",
    "        // Se não for a primeira coluna...\n",
    "        if j > 1 then\n",
    "            // Calcula o termo de projeção de v\n",
    "            R(1:(j-1), j) = (Q(:, 1:(j-1)))' * A(:, j)\n",
    "            // Calcula a ortogonalização de v\n",
    "            v = v - Q(:, 1:(j-1)) * R(1:(j-1), j)\n",
    "        end\n",
    "        // Salva o termo da diagonal de R como a norma de v\n",
    "        R(j, j) = norm(v)\n",
    "        // Salva a coluna de Q como o vetor v normalizado\n",
    "        Q(:, j) = v / R(j, j)\n",
    "    end\n",
    "endfunction"
   ]
  },
  {
   "cell_type": "markdown",
   "metadata": {},
   "source": [
    "Vamos testá-la com algumas matrizes retangulares, calculando os erros do produto $QR$ com a matriz $A$ e da ortogonalidade da matriz $Q$."
   ]
  },
  {
   "cell_type": "code",
   "execution_count": 89,
   "metadata": {},
   "outputs": [
    {
     "name": "stdout",
     "output_type": "stream",
     "text": [
      " A1  = \n",
      "   2.   9.\n",
      "  -2.   7.\n",
      "   4.  -3.\n",
      "\n",
      "  \"norm(Q*R - A)\"\n",
      "\n",
      "   1.776D-15\n",
      "\n",
      "  \"norm(Q^T*Q - I)\"\n",
      "\n",
      "   2.292D-16"
     ]
    }
   ],
   "source": [
    "// Gerando uma matriz\n",
    "A1 = round(20*rand(3, 2) - 10)\n",
    "// Calculando a decomposição QR\n",
    "[Q1, R1] = qr_GS(A1);\n",
    "disp(\"norm(Q*R - A)\", norm(Q1*R1 - A1))\n",
    "disp(\"norm(Q^T*Q - I)\", norm(Q1'*Q1 - eye(2, 2)))"
   ]
  },
  {
   "cell_type": "code",
   "execution_count": 90,
   "metadata": {},
   "outputs": [
    {
     "name": "stdout",
     "output_type": "stream",
     "text": [
      " A2  = \n",
      "   8.   9.    5.\n",
      "  -8.   10.   1.\n",
      "   1.   2.    5.\n",
      "   1.   10.  -9.\n",
      "\n",
      "  \"norm(Q*R - A)\"\n",
      "\n",
      "   1.891D-15\n",
      "\n",
      "  \"norm(Q^T*Q - I)\"\n",
      "\n",
      "   2.562D-16"
     ]
    }
   ],
   "source": [
    "A2 = round(20*rand(4, 3) - 10)\n",
    "[Q2, R2] = qr_GS(A2);\n",
    "disp(\"norm(Q*R - A)\", norm(Q2*R2 - A2))\n",
    "disp(\"norm(Q^T*Q - I)\", norm(Q2'*Q2 - eye(3, 3)))"
   ]
  },
  {
   "cell_type": "code",
   "execution_count": 91,
   "metadata": {},
   "outputs": [
    {
     "name": "stdout",
     "output_type": "stream",
     "text": [
      " A3  = \n",
      "  -2.   8.   6.  -5.   4.\n",
      "  -8.   5.   4.   4.  -4.\n",
      "  -5.   1.  -8.   9.  -7.\n",
      "  -3.  -2.  -5.   0.   4.\n",
      "  -7.   8.   5.  -5.  -1.\n",
      "\n",
      "  \"norm(Q*R - A)\"\n",
      "\n",
      "   8.882D-16\n",
      "\n",
      "  \"norm(Q^T*Q - I)\"\n",
      "\n",
      "   6.279D-16"
     ]
    }
   ],
   "source": [
    "A3 = round(20*rand(5, 5) - 10)\n",
    "[Q3, R3] = qr_GS(A3);\n",
    "disp(\"norm(Q*R - A)\", norm(Q3*R3 - A3))\n",
    "disp(\"norm(Q^T*Q - I)\", norm(Q3'*Q3 - eye(5, 5)))"
   ]
  },
  {
   "cell_type": "markdown",
   "metadata": {},
   "source": [
    "Parece que nossa função está funcionando bem.\n",
    "\n",
    "# Exercício 2"
   ]
  },
  {
   "cell_type": "markdown",
   "metadata": {},
   "source": [
    "Agora, façamos a função da decomposição $QR$ com Gram-Schmidt modificado. Infelizmente, para essa versão, não é possível calcular o loop interno matricialmente devido à atualização do vetor $v$, sendo necessário um loop `for`."
   ]
  },
  {
   "cell_type": "code",
   "execution_count": 92,
   "metadata": {},
   "outputs": [],
   "source": [
    "// Função de decomposição QR de Gram-Schmidt\n",
    "function [Q, R] = qr_GSM(A)\n",
    "    // Pegando as dimensões da A\n",
    "    [m, n] = size(A)\n",
    "    // Inicializando as matrizes Q e R\n",
    "    Q = zeros(m, n)\n",
    "    R = zeros(n, n)\n",
    "\n",
    "    // Para cada coluna...\n",
    "    for j = 1:n\n",
    "        // Inicializa o vetor v como a coluna de A\n",
    "        v = A(:, j)\n",
    "        // Para cada linha...\n",
    "        for i = 1:(j-1)\n",
    "            // Calcula o fator de projeção do v sobre qi\n",
    "            R(i, j) = Q(:, i)' * v\n",
    "            // Ortogonaliza em relação ao qi\n",
    "            v = v - R(i, j) * Q(:, i)\n",
    "        end\n",
    "        // Salva o termo da diagonal de R como a norma de v\n",
    "        R(j, j) = norm(v)\n",
    "        // Salva a coluna de Q como o vetor v normalizado\n",
    "        Q(:, j) = v / R(j, j)\n",
    "    end\n",
    "endfunction"
   ]
  },
  {
   "cell_type": "markdown",
   "metadata": {},
   "source": [
    "Vamos agora testá-la com as mesmas matrizes usadas no exercício anterior, comparando a precisão dos dois algoritmos."
   ]
  },
  {
   "cell_type": "code",
   "execution_count": 93,
   "metadata": {},
   "outputs": [
    {
     "name": "stdout",
     "output_type": "stream",
     "text": [
      "  \"=============== Gram-Schmidt ================\"\n",
      "\n",
      "  \"norm(Q*R - A)\"\n",
      "\n",
      "   1.776D-15\n",
      "\n",
      "  \"norm(Q^T*Q - I)\"\n",
      "\n",
      "   2.292D-16\n",
      "\n",
      "  \"========== Gram-Schmidt modificado ==========\"\n",
      "\n",
      "  \"norm(Q*R - A)\"\n",
      "\n",
      "   1.776D-15\n",
      "\n",
      "  \"norm(Q^T*Q - I)\"\n",
      "\n",
      "   2.292D-16"
     ]
    }
   ],
   "source": [
    "// Calculando a decomposição QR pelo GS modificado\n",
    "[QM1, RM1] = qr_GSM(A1);\n",
    "\n",
    "disp(\"=============== Gram-Schmidt ================\")\n",
    "disp(\"norm(Q*R - A)\", norm(Q1*R1 - A1))\n",
    "disp(\"norm(Q^T*Q - I)\", norm(Q1'*Q1 - eye(2, 2)))\n",
    "disp(\"========== Gram-Schmidt modificado ==========\")\n",
    "disp(\"norm(Q*R - A)\", norm(QM1*RM1 - A1))\n",
    "disp(\"norm(Q^T*Q - I)\", norm(QM1'*QM1 - eye(2, 2)))"
   ]
  },
  {
   "cell_type": "code",
   "execution_count": 94,
   "metadata": {},
   "outputs": [
    {
     "name": "stdout",
     "output_type": "stream",
     "text": [
      "  \"=============== Gram-Schmidt ================\"\n",
      "\n",
      "  \"norm(Q*R - A)\"\n",
      "\n",
      "   1.891D-15\n",
      "\n",
      "  \"norm(Q^T*Q - I)\"\n",
      "\n",
      "   2.562D-16\n",
      "\n",
      "  \"========== Gram-Schmidt modificado ==========\"\n",
      "\n",
      "  \"norm(Q*R - A)\"\n",
      "\n",
      "   1.891D-15\n",
      "\n",
      "  \"norm(Q^T*Q - I)\"\n",
      "\n",
      "   2.562D-16"
     ]
    }
   ],
   "source": [
    "[QM2, RM2] = qr_GSM(A2);\n",
    "\n",
    "disp(\"=============== Gram-Schmidt ================\")\n",
    "disp(\"norm(Q*R - A)\", norm(Q2*R2 - A2))\n",
    "disp(\"norm(Q^T*Q - I)\", norm(Q2'*Q2 - eye(3, 3)))\n",
    "disp(\"========== Gram-Schmidt modificado ==========\")\n",
    "disp(\"norm(Q*R - A)\", norm(QM2*RM2 - A2))\n",
    "disp(\"norm(Q^T*Q - I)\", norm(QM2'*QM2 - eye(3, 3)))"
   ]
  },
  {
   "cell_type": "code",
   "execution_count": 95,
   "metadata": {},
   "outputs": [
    {
     "name": "stdout",
     "output_type": "stream",
     "text": [
      "  \"=============== Gram-Schmidt ================\"\n",
      "\n",
      "  \"norm(Q*R - A)\"\n",
      "\n",
      "   8.882D-16\n",
      "\n",
      "  \"norm(Q^T*Q - I)\"\n",
      "\n",
      "   6.279D-16\n",
      "\n",
      "  \"========== Gram-Schmidt modificado ==========\"\n",
      "\n",
      "  \"norm(Q*R - A)\"\n",
      "\n",
      "   1.776D-15\n",
      "\n",
      "  \"norm(Q^T*Q - I)\"\n",
      "\n",
      "   5.514D-16"
     ]
    }
   ],
   "source": [
    "[QM3, RM3] = qr_GSM(A3);\n",
    "\n",
    "disp(\"=============== Gram-Schmidt ================\")\n",
    "disp(\"norm(Q*R - A)\", norm(Q3*R3 - A3))\n",
    "disp(\"norm(Q^T*Q - I)\", norm(Q3'*Q3 - eye(5, 5)))\n",
    "disp(\"========== Gram-Schmidt modificado ==========\")\n",
    "disp(\"norm(Q*R - A)\", norm(QM3*RM3 - A3))\n",
    "disp(\"norm(Q^T*Q - I)\", norm(QM3'*QM3 - eye(5, 5)))"
   ]
  },
  {
   "cell_type": "markdown",
   "metadata": {},
   "source": [
    "Nota-se que, para matrizes comuns, os algoritmos obtiveram desempenhos bem similares, não variando muito o erro numérico tanto da aproximação da $QR$ para a $A$ quanto da ortogonalidade da $Q$."
   ]
  },
  {
   "cell_type": "markdown",
   "metadata": {},
   "source": [
    "# Exercício 4\n",
    "\n"
   ]
  },
  {
   "cell_type": "markdown",
   "metadata": {},
   "source": [
    "Agora, vamos escrever funções para calcular a decomposição $QR$ de uma matriz com base no refletor de Householder. Primeiro, temos a versão normal do algoritmo escrita abaixo."
   ]
  },
  {
   "cell_type": "code",
   "execution_count": 96,
   "metadata": {},
   "outputs": [],
   "source": [
    "// Função da versão 1 do algoritmo de Householder para decomposição QR\n",
    "function [U, R] = qr_House_v1(A)\n",
    "    // Pegando as dimensões da A\n",
    "    [m, n] = size(A)\n",
    "    // Inicializando a matriz U\n",
    "    U = zeros(m, n)\n",
    "\n",
    "    // Para cada coluna...\n",
    "    for j = 1:n\n",
    "        // Pega o vetor que queremos projetar sobre um eixo\n",
    "        x = A(j:m, j)\n",
    "        // Escolhe a melhor das duas projeções possíveis\n",
    "        if x(1) > 0 then\n",
    "            x(1) = x(1) + norm(x)\n",
    "        else\n",
    "            x(1) = x(1) - norm(x)\n",
    "        end\n",
    "        // Calcula u normalizando x\n",
    "        u = x/norm(x)\n",
    "        // Salva u na matriz U\n",
    "        U(j:m, j) = u\n",
    "        // Triangulariza a parte da matriz correspondente\n",
    "        A(j:m, j:n) = A(j:m, j:n) - 2*u*(u' * A(j:m, j:n))\n",
    "    end\n",
    "    // A R é a parte triangular superior da A\n",
    "    R = triu(A)\n",
    "endfunction"
   ]
  },
  {
   "cell_type": "markdown",
   "metadata": {},
   "source": [
    "Em seguida, vamos escrever uma versão modificada desse algoritmo, na qual as iterações sobre as colunas de uma matriz m x n acontecem apenas até $m - 1$ colunas se m $\\leq$ n. A explicação para isso é esta: a cada iteração, o algoritmo seleciona a coluna seguinte e zera todos os valores abaixo da diagonal da matriz nessa coluna, ou seja, abaixo do elemento $A(j, j)$ da coluna $j$. No entanto, caso a matriz seja quadrada ou possua mais colunas que linhas, na $m$-ésima iteração, esse elemento da diagonal será o último elemento daquela coluna, não havendo nada abaixo dele para ser zerado (para iterações seguintes, ele apenas não selecionará nada). Portanto, podemos simplesmente desconsiderar essas últimas iterações.\n",
    "\n",
    "Feita a explicação, abaixo está a função dessa 2° versão do algoritmo."
   ]
  },
  {
   "cell_type": "code",
   "execution_count": 97,
   "metadata": {},
   "outputs": [],
   "source": [
    "// Função da versão 2 do algoritmo de Householder para decomposição QR\n",
    "function [U, R] = qr_House_v2(A)\n",
    "    // Pegando as dimensões da A\n",
    "    [m, n] = size(A)\n",
    "    // Inicializando a matriz U\n",
    "    k = min(m-1, n)\n",
    "    U = zeros(m, k)\n",
    "\n",
    "    // Para cada coluna...\n",
    "    for j = 1:k\n",
    "        // Pega o vetor que queremos projetar sobre um eixo\n",
    "        x = A(j:m, j)\n",
    "        // Escolhe a melhor das duas projeções possíveis\n",
    "        if x(1) > 0 then\n",
    "            x(1) = x(1) + norm(x)\n",
    "        else\n",
    "            x(1) = x(1) - norm(x)\n",
    "        end\n",
    "        // Calcula u normalizando x\n",
    "        u = x/norm(x)\n",
    "        // Salva u na matriz U\n",
    "        U(j:m, j) = u\n",
    "        // Triangulariza a parte da matriz correspondente\n",
    "        A(j:m, j:n) = A(j:m, j:n) - 2*u*(u' * A(j:m, j:n))\n",
    "    end\n",
    "    // A R é a parte triangular superior da A\n",
    "    R = triu(A)\n",
    "endfunction"
   ]
  },
  {
   "cell_type": "markdown",
   "metadata": {},
   "source": [
    "Por fim, vamos escrever uma função para construir a matriz $Q$ dessa decomposição com base nos vetores presentes nas colunas da matriz $U$ fornecida pelo algoritmo."
   ]
  },
  {
   "cell_type": "code",
   "execution_count": 98,
   "metadata": {},
   "outputs": [],
   "source": [
    "// Função para construir a matriz Q\n",
    "function [Q] = constroi_Q_house(U)\n",
    "    // Pegando as dimensões da U\n",
    "    [m, n] = size(U)\n",
    "\n",
    "    // Inicializando Q como a identidade\n",
    "    Q = eye(m, m)\n",
    "\n",
    "    // Para cada vetor em U...\n",
    "    for j = 1:n\n",
    "        // Pega a coluna da matriz\n",
    "        uj = U(:, j)\n",
    "        // Calcula a matriz de Householder\n",
    "        Qj = eye(m, m) - 2*uj*uj'\n",
    "        // Multiplica à direita da Q\n",
    "        Q = Q * Qj\n",
    "    end\n",
    "endfunction"
   ]
  },
  {
   "cell_type": "markdown",
   "metadata": {},
   "source": [
    "## Item 4.1)\n",
    "\n",
    "Vamos testar a precisão desse método em comparação com os anteriores."
   ]
  },
  {
   "cell_type": "code",
   "execution_count": 99,
   "metadata": {},
   "outputs": [
    {
     "name": "stdout",
     "output_type": "stream",
     "text": [
      "  \"=============== Q*R - A ================\"\n",
      "\n",
      "  \"Gram-Schmidt\"\n",
      "\n",
      "   1.776D-15\n",
      "\n",
      "  \"Gram-Schmidt modificado\"\n",
      "\n",
      "   1.776D-15\n",
      "\n",
      "  \"Householder 1\"\n",
      "\n",
      "   1.111D-14\n",
      "\n",
      "  \"Householder 2\"\n",
      "\n",
      "   1.111D-14\n",
      "\n",
      "  \"=============== Q^T*Q - I ===============\"\n",
      "\n",
      "  \"Gram-Schmidt\"\n",
      "\n",
      "   2.292D-16\n",
      "\n",
      "  \"Gram-Schmidt modificado\"\n",
      "\n",
      "   2.292D-16\n",
      "\n",
      "  \"Householder 1\"\n",
      "\n",
      "   1.882D-15\n",
      "\n",
      "  \"Householder 2\"\n",
      "\n",
      "   1.882D-15"
     ]
    }
   ],
   "source": [
    "// Calculando a U e a R do método de Householder\n",
    "[U1HH1, R1HH1] = qr_House_v1(A1);\n",
    "[U1HH2, R1HH2] = qr_House_v2(A1);\n",
    "\n",
    "// Calculando a matriz Q de Householder\n",
    "Q1HH1 = constroi_Q_house(U1HH1);\n",
    "Q1HH2 = constroi_Q_house(U1HH2);\n",
    "\n",
    "disp(\"=============== Q*R - A ================\")\n",
    "disp(\"Gram-Schmidt\", norm(Q1*R1 - A1))\n",
    "disp(\"Gram-Schmidt modificado\", norm(QM1*RM1 - A1))\n",
    "disp(\"Householder 1\", norm(Q1HH1*R1HH1 - A1))\n",
    "disp(\"Householder 2\", norm(Q1HH2*R1HH2 - A1))\n",
    "disp(\"=============== Q^T*Q - I ===============\")\n",
    "disp(\"Gram-Schmidt\", norm(Q1'*Q1 - eye(2, 2)))\n",
    "disp(\"Gram-Schmidt modificado\", norm(QM1'*QM1 - eye(2, 2)))\n",
    "disp(\"Householder 1\", norm(Q1HH1'*Q1HH1 - eye(3, 3)))\n",
    "disp(\"Householder 2\", norm(Q1HH2'*Q1HH2 - eye(3, 3)))"
   ]
  },
  {
   "cell_type": "code",
   "execution_count": 100,
   "metadata": {},
   "outputs": [
    {
     "name": "stdout",
     "output_type": "stream",
     "text": [
      "  \"=============== Q*R - A ================\"\n",
      "\n",
      "  \"Gram-Schmidt\"\n",
      "\n",
      "   1.891D-15\n",
      "\n",
      "  \"Gram-Schmidt modificado\"\n",
      "\n",
      "   1.891D-15\n",
      "\n",
      "  \"Householder 1\"\n",
      "\n",
      "   2.722D-14\n",
      "\n",
      "  \"Householder 2\"\n",
      "\n",
      "   2.722D-14\n",
      "\n",
      "  \"=============== Q^T*Q - I ===============\"\n",
      "\n",
      "  \"Gram-Schmidt\"\n",
      "\n",
      "   2.562D-16\n",
      "\n",
      "  \"Gram-Schmidt modificado\"\n",
      "\n",
      "   2.562D-16\n",
      "\n",
      "  \"Householder 1\"\n",
      "\n",
      "   2.144D-15\n",
      "\n",
      "  \"Householder 2\"\n",
      "\n",
      "   2.144D-15"
     ]
    }
   ],
   "source": [
    "[U2HH1, R2HH1] = qr_House_v1(A2);\n",
    "[U2HH2, R2HH2] = qr_House_v2(A2);\n",
    "\n",
    "Q2HH1 = constroi_Q_house(U2HH1);\n",
    "Q2HH2 = constroi_Q_house(U2HH2);\n",
    "\n",
    "disp(\"=============== Q*R - A ================\")\n",
    "disp(\"Gram-Schmidt\", norm(Q2*R2 - A2))\n",
    "disp(\"Gram-Schmidt modificado\", norm(QM2*RM2 - A2))\n",
    "disp(\"Householder 1\", norm(Q2HH1*R2HH1 - A2))\n",
    "disp(\"Householder 2\", norm(Q2HH2*R2HH2 - A2))\n",
    "disp(\"=============== Q^T*Q - I ===============\")\n",
    "disp(\"Gram-Schmidt\", norm(Q2'*Q2 - eye(3, 3)))\n",
    "disp(\"Gram-Schmidt modificado\", norm(QM2'*QM2 - eye(3, 3)))\n",
    "disp(\"Householder 1\", norm(Q2HH1'*Q2HH1 - eye(4, 4)))\n",
    "disp(\"Householder 2\", norm(Q2HH2'*Q2HH2 - eye(4, 4)))"
   ]
  },
  {
   "cell_type": "code",
   "execution_count": 101,
   "metadata": {},
   "outputs": [
    {
     "name": "stdout",
     "output_type": "stream",
     "text": [
      "  \"=============== Q*R - A ================\"\n",
      "\n",
      "  \"Gram-Schmidt\"\n",
      "\n",
      "   8.882D-16\n",
      "\n",
      "  \"Gram-Schmidt modificado\"\n",
      "\n",
      "   1.776D-15\n",
      "\n",
      "  \"Householder 1\"\n",
      "\n",
      "   1.308D-14\n",
      "\n",
      "  \"Householder 2\"\n",
      "\n",
      "   1.308D-14\n",
      "\n",
      "  \"=============== Q^T*Q - I ===============\"\n",
      "\n",
      "  \"Gram-Schmidt\"\n",
      "\n",
      "   6.279D-16\n",
      "\n",
      "  \"Gram-Schmidt modificado\"\n",
      "\n",
      "   5.514D-16\n",
      "\n",
      "  \"Householder 1\"\n",
      "\n",
      "   1.404D-15\n",
      "\n",
      "  \"Householder 2\"\n",
      "\n",
      "   1.404D-15"
     ]
    }
   ],
   "source": [
    "[U3HH1, R3HH1] = qr_House_v1(A3);\n",
    "[U3HH2, R3HH2] = qr_House_v2(A3);\n",
    "\n",
    "Q3HH1 = constroi_Q_house(U3HH1);\n",
    "Q3HH2 = constroi_Q_house(U3HH2);\n",
    "\n",
    "disp(\"=============== Q*R - A ================\")\n",
    "disp(\"Gram-Schmidt\", norm(Q3*R3 - A3))\n",
    "disp(\"Gram-Schmidt modificado\", norm(QM3*RM3 - A3))\n",
    "disp(\"Householder 1\", norm(Q3HH1*R3HH1 - A3))\n",
    "disp(\"Householder 2\", norm(Q3HH2*R3HH2 - A3))\n",
    "disp(\"=============== Q^T*Q - I ===============\")\n",
    "disp(\"Gram-Schmidt\", norm(Q3'*Q3 - eye(5, 5)))\n",
    "disp(\"Gram-Schmidt modificado\", norm(QM3'*QM3 - eye(5, 5)))\n",
    "disp(\"Householder 1\", norm(Q3HH1'*Q3HH1 - eye(5, 5)))\n",
    "disp(\"Householder 2\", norm(Q3HH2'*Q3HH2 - eye(5, 5)))"
   ]
  },
  {
   "cell_type": "markdown",
   "metadata": {},
   "source": [
    "Assim, observa-se que o método de decomposição $QR$ de Householder tem uma precisão bem semelhante aos métodos de Gram-Schmidt."
   ]
  },
  {
   "cell_type": "markdown",
   "metadata": {},
   "source": [
    "## Item 4.2)\n",
    "\n",
    "### 1. Matriz mágica 7x7\n",
    "\n",
    "A seguir, testaremos nossas funções com algumas matrizes especiais, geralmente instáveis. Começaremos com uma matriz mágica 7x7, na qual as somas dos elementos de cada linha, coluna e diagonal é a mesma."
   ]
  },
  {
   "cell_type": "code",
   "execution_count": 102,
   "metadata": {},
   "outputs": [
    {
     "name": "stdout",
     "output_type": "stream",
     "text": [
      " M1  = \n",
      "   30.   39.   48.   1.    10.   19.   28.\n",
      "   38.   47.   7.    9.    18.   27.   29.\n",
      "   46.   6.    8.    17.   26.   35.   37.\n",
      "   5.    14.   16.   25.   34.   36.   45.\n",
      "   13.   15.   24.   33.   42.   44.   4. \n",
      "   21.   23.   32.   41.   43.   3.    12.\n",
      "   22.   31.   40.   49.   2.    11.   20."
     ]
    }
   ],
   "source": [
    "M1 = testmatrix('magi', 7)"
   ]
  },
  {
   "cell_type": "code",
   "execution_count": 103,
   "metadata": {},
   "outputs": [
    {
     "name": "stdout",
     "output_type": "stream",
     "text": [
      "  \"=============== Q*R - A ================\"\n",
      "\n",
      "  \"Gram-Schmidt\"\n",
      "\n",
      "   7.105D-15\n",
      "\n",
      "  \"Gram-Schmidt modificado\"\n",
      "\n",
      "   1.029D-14\n",
      "\n",
      "  \"Householder\"\n",
      "\n",
      "   5.506D-14\n",
      "\n",
      "  \"Scilab\"\n",
      "\n",
      "   9.110D-14\n",
      "\n",
      "  \"=============== Q^T*Q - I ===============\"\n",
      "\n",
      "  \"Gram-Schmidt\"\n",
      "\n",
      "   1.574D-15\n",
      "\n",
      "  \"Gram-Schmidt modificado\"\n",
      "\n",
      "   1.017D-15\n",
      "\n",
      "  \"Householder\"\n",
      "\n",
      "   6.063D-16\n",
      "\n",
      "  \"Scilab\"\n",
      "\n",
      "   6.171D-16"
     ]
    }
   ],
   "source": [
    "// Calculando a decomposição QR pelos métodos de Gram-Schmidt\n",
    "[QM1GS, RM1GS] = qr_GS(M1);\n",
    "[QM1GSM, RM1GSM] = qr_GSM(M1);\n",
    "\n",
    "// Calculando a decomposição QR pelo método de Householder\n",
    "[UM1HH, RM1HH] = qr_House_v2(M1);\n",
    "QM1HH = constroi_Q_house(UM1HH);\n",
    "\n",
    "// Calculando a decomposição QR com a função do Scilab\n",
    "[QM1Sci, RM1Sci] = qr(M1);\n",
    "\n",
    "disp(\"=============== Q*R - A ================\")\n",
    "disp(\"Gram-Schmidt\", norm(QM1GS*RM1GS - M1))\n",
    "disp(\"Gram-Schmidt modificado\", norm(QM1GSM*RM1GSM - M1))\n",
    "disp(\"Householder\", norm(QM1HH*RM1HH - M1))\n",
    "disp(\"Scilab\", norm(QM1Sci*RM1Sci - M1))\n",
    "disp(\"=============== Q^T*Q - I ===============\")\n",
    "disp(\"Gram-Schmidt\", norm(QM1GS'*QM1GS - eye(7, 7)))\n",
    "disp(\"Gram-Schmidt modificado\", norm(QM1GSM'*QM1GSM - eye(7, 7)))\n",
    "disp(\"Householder\", norm(QM1HH'*QM1HH - eye(7, 7)))\n",
    "disp(\"Scilab\", norm(QM1Sci'*QM1Sci - eye(7, 7)))"
   ]
  },
  {
   "cell_type": "markdown",
   "metadata": {},
   "source": [
    "Parece que todos os métodos obtiveram resultados bem precisos para ortogonalizar essa matriz mágica.\n",
    "\n",
    "### 2. Matriz de Hilbert 7x7\n",
    "\n",
    "Agora, vamos testar com a inversa de uma matriz de Hilbert, cuja definição é a seguinte para cada elemento $(i, j)$:\n",
    "\n",
    "$$\n",
    "H_{i, j} = \\dfrac{1}{i+j-1}\n",
    "$$"
   ]
  },
  {
   "cell_type": "code",
   "execution_count": 104,
   "metadata": {},
   "outputs": [
    {
     "name": "stdout",
     "output_type": "stream",
     "text": [
      " H  = \n",
      "   49.     -1176.      8820.      -29400.      48510.     -38808.      12012.   \n",
      "  -1176.    37632.    -317520.     1128960.   -1940400.    1596672.   -504504.  \n",
      "   8820.   -317520.    2857680.   -10584000.   18711000.  -15717240.   5045040. \n",
      "  -29400.   1128960.  -10584000.   40320000.  -72765000.   62092800.  -20180160.\n",
      "   48510.  -1940400.   18711000.  -72765000.   1.334D+08  -1.153D+08   37837800.\n",
      "  -38808.   1596672.  -15717240.   62092800.  -1.153D+08   1.006D+08  -33297264.\n",
      "   12012.  -504504.    5045040.   -20180160.   37837800.  -33297264.   11099088."
     ]
    }
   ],
   "source": [
    "H = testmatrix('hilb', 7)"
   ]
  },
  {
   "cell_type": "code",
   "execution_count": 105,
   "metadata": {},
   "outputs": [
    {
     "name": "stdout",
     "output_type": "stream",
     "text": [
      "  \"=============== Q*R - A ================\"\n",
      "\n",
      "  \"Gram-Schmidt\"\n",
      "\n",
      "   0.\n",
      "\n",
      "  \"Gram-Schmidt modificado\"\n",
      "\n",
      "   8.975D-09\n",
      "\n",
      "  \"Householder\"\n",
      "\n",
      "   0.0000001\n",
      "\n",
      "  \"Scilab\"\n",
      "\n",
      "   3.688D-08\n",
      "\n",
      "  \"=============== Q^T*Q - I ===============\"\n",
      "\n",
      "  \"Gram-Schmidt\"\n",
      "\n",
      "   0.9852109\n",
      "\n",
      "  \"Gram-Schmidt modificado\"\n",
      "\n",
      "   1.933D-09\n",
      "\n",
      "  \"Householder\"\n",
      "\n",
      "   1.447D-15\n",
      "\n",
      "  \"Scilab\"\n",
      "\n",
      "   3.746D-16"
     ]
    }
   ],
   "source": [
    "// Calculando a decomposição QR pelos métodos de Gram-Schmidt\n",
    "[QHGS, RHGS] = qr_GS(H);\n",
    "[QHGSM, RHGSM] = qr_GSM(H);\n",
    "\n",
    "// Calculando a decomposição QR pelo método de Householder\n",
    "[UHHH, RHHH] = qr_House_v2(H);\n",
    "QHHH = constroi_Q_house(UHHH);\n",
    "\n",
    "// Calculando a decomposição QR com a função do Scilab\n",
    "[QHSci, RHSci] = qr(H);\n",
    "\n",
    "disp(\"=============== Q*R - A ================\")\n",
    "disp(\"Gram-Schmidt\", norm(QHGS*RHGS - H))\n",
    "disp(\"Gram-Schmidt modificado\", norm(QHGSM*RHGSM - H))\n",
    "disp(\"Householder\", norm(QHHH*RHHH - H))\n",
    "disp(\"Scilab\", norm(QHSci*RHSci - H))\n",
    "disp(\"=============== Q^T*Q - I ===============\")\n",
    "disp(\"Gram-Schmidt\", norm(QHGS'*QHGS - eye(7, 7)))\n",
    "disp(\"Gram-Schmidt modificado\", norm(QHGSM'*QHGSM - eye(7, 7)))\n",
    "disp(\"Householder\", norm(QHHH'*QHHH - eye(7, 7)))\n",
    "disp(\"Scilab\", norm(QHSci'*QHSci - eye(7, 7)))"
   ]
  },
  {
   "cell_type": "markdown",
   "metadata": {},
   "source": [
    "Curiosamente, o método de Gram-Schmidt normal obteve precisão máxima no quesito da decomposição da matriz $H$, mas ficou com um erro muito grande na ortogonalidade da matriz $Q$. Isso provavelmente ocorre devido a sua abordagem direta e simples na decomposição da matriz e ao fato de ela não preservar exatamente a ortogonalidade entre as colunas de $Q$, especialmente em matrizes mal-condicionadas como essa.\n",
    "\n",
    "Com relação ao método modificado, seus resultados ficaram com uma precisão razoável, melhor que a do método normal. Por ser uma melhoria, o algoritmo atualizado geralmente mantém a precisão da decomposição da matriz e visa melhorar a ortogonalidade de $Q$.\n",
    "\n",
    "Olhando para o Householder, ele obteve o resultado inverso do Gram-Schmidt: sua precisão na decomposição da $H$ não foi tão boa, mas a ortogonalidade da $Q$ obtida ficou muito alta. Uma possível razão para isso é que esse método preserva a ortogonalidade exata entre as colunas de $Q$, mesmo com a decomposição não sendo tão precisa.\n",
    "\n",
    "Por fim, a função do Scilab ficou com resultados bons nos dois quesitos.\n",
    "\n",
    "### 3. Matriz mágica 6x6\n",
    "\n",
    "Por fim, vamos testar com outra matriz mágica, mas agora 6x6."
   ]
  },
  {
   "cell_type": "code",
   "execution_count": 106,
   "metadata": {},
   "outputs": [
    {
     "name": "stdout",
     "output_type": "stream",
     "text": [
      " M2  = \n",
      "   35.   1.    6.    26.   19.   24.\n",
      "   3.    32.   7.    21.   23.   25.\n",
      "   31.   9.    2.    22.   27.   20.\n",
      "   8.    28.   33.   17.   10.   15.\n",
      "   30.   5.    34.   12.   14.   16.\n",
      "   4.    36.   29.   13.   18.   11."
     ]
    }
   ],
   "source": [
    "M2 = testmatrix('magi', 6)"
   ]
  },
  {
   "cell_type": "code",
   "execution_count": 107,
   "metadata": {},
   "outputs": [
    {
     "name": "stdout",
     "output_type": "stream",
     "text": [
      "  \"=============== Q*R - A ================\"\n",
      "\n",
      "  \"Gram-Schmidt\"\n",
      "\n",
      "   7.957D-15\n",
      "\n",
      "  \"Gram-Schmidt modificado\"\n",
      "\n",
      "   7.960D-15\n",
      "\n",
      "  \"Householder\"\n",
      "\n",
      "   1.750D-14\n",
      "\n",
      "  \"Scilab\"\n",
      "\n",
      "   4.101D-14\n",
      "\n",
      "  \"=============== Q^T*Q - I ===============\"\n",
      "\n",
      "  \"Gram-Schmidt\"\n",
      "\n",
      "   0.9965096\n",
      "\n",
      "  \"Gram-Schmidt modificado\"\n",
      "\n",
      "   0.9374063\n",
      "\n",
      "  \"Householder\"\n",
      "\n",
      "   1.166D-15\n",
      "\n",
      "  \"Scilab\"\n",
      "\n",
      "   6.629D-16"
     ]
    }
   ],
   "source": [
    "// Calculando a decomposição QR pelos métodos de Gram-Schmidt\n",
    "[QM2GS, RM2GS] = qr_GS(M2);\n",
    "[QM2GSM, RM2GSM] = qr_GSM(M2);\n",
    "\n",
    "// Calculando a decomposição QR pelo método de Householder\n",
    "[UM2HH, RM2HH] = qr_House_v2(M2);\n",
    "QM2HH = constroi_Q_house(UM2HH);\n",
    "\n",
    "// Calculando a decomposição QR com a função do Scilab\n",
    "[QM2Sci, RM2Sci] = qr(M2);\n",
    "\n",
    "disp(\"=============== Q*R - A ================\")\n",
    "disp(\"Gram-Schmidt\", norm(QM2GS*RM2GS - M2))\n",
    "disp(\"Gram-Schmidt modificado\", norm(QM2GSM*RM2GSM - M2))\n",
    "disp(\"Householder\", norm(QM2HH*RM2HH - M2))\n",
    "disp(\"Scilab\", norm(QM2Sci*RM2Sci - M2))\n",
    "disp(\"=============== Q^T*Q - I ===============\")\n",
    "disp(\"Gram-Schmidt\", norm(QM2GS'*QM2GS - eye(6, 6)))\n",
    "disp(\"Gram-Schmidt modificado\", norm(QM2GSM'*QM2GSM - eye(6, 6)))\n",
    "disp(\"Householder\", norm(QM2HH'*QM2HH - eye(6, 6)))\n",
    "disp(\"Scilab\", norm(QM2Sci'*QM2Sci - eye(6, 6)))"
   ]
  },
  {
   "cell_type": "markdown",
   "metadata": {},
   "source": [
    "Diferentemente da matriz mágica 7x7 testada anteriormente, essa 6x6 trouxe alguns problemas para nossos algoritmos. Isso se deve à peculiar característica dessa classe de matrizes de que seus espécimes de ordem ímpar são bem-condicionados, enquanto que os de ordem par são mal-condicionados.\n",
    "\n",
    "Todos os métodos obtiveram aproximações boas na decomposição da matriz em $Q$ e $R$.\n",
    "\n",
    "No entanto, o Gram-Schmidt não obteve sucesso na ortogonalidade da $Q$, com ambas as versões ficando com erros altos. Uma possível causa para isso é a falta de robustez do método de Gram-Schmidt para garantir a ortogonalidade exata entre as colunas de $Q$ em comparação com os outros métodos, especialmente com matrizes mal-condicionadas, introduzindo erros numéricos que afetam essa ortogonalidade.\n",
    "\n",
    "Por outro lado, tanto o método de Householder quanto o do Scilab conseguiram resultados muito bons nesse quesito.\n",
    "\n",
    "# Exercício 5\n",
    "\n",
    "Por último, vamos usar a decomposição $QR$ para encontrar os autovalores de uma matriz simétrica. A função para isso está a seguir."
   ]
  },
  {
   "cell_type": "code",
   "execution_count": 108,
   "metadata": {},
   "outputs": [
    {
     "name": "stdout",
     "output_type": "stream",
     "text": [
      "Warning : redefining function: espectro                . Use funcprot(0) to avoid this message"
     ]
    }
   ],
   "source": [
    "// Função para calcular os autovalores de uma matriz por meio da decomposição QR\n",
    "function [S] = espectro(A, tol)\n",
    "    // Inicializando os vetores atual e anterior distantes para garantir a entrada no loop\n",
    "    S = [%inf]\n",
    "    S0 = [0]\n",
    "\n",
    "    // Enquanto o vetor não convergir...\n",
    "    while norm(S - S0, 'inf') > tol\n",
    "        // Salva o valor anterior\n",
    "        S0 = S\n",
    "        // Calcula a decomposição QR da matriz\n",
    "        [Q, R] = qr_GSM(A)\n",
    "        // Substitui ela por RQ\n",
    "        A = R*Q\n",
    "        // Pega a diagonal dessa matriz como os autovalores\n",
    "        S = diag(A)\n",
    "    end\n",
    "endfunction"
   ]
  },
  {
   "cell_type": "markdown",
   "metadata": {},
   "source": [
    "Vamos testar com algumas matrizes."
   ]
  },
  {
   "cell_type": "code",
   "execution_count": 109,
   "metadata": {},
   "outputs": [
    {
     "name": "stdout",
     "output_type": "stream",
     "text": [
      " A4  = \n",
      "   5.  -5.  -1.\n",
      "  -5.   4.   2.\n",
      "  -1.   2.  -4.\n",
      " autovalores  = \n",
      "  -4.4768213\n",
      "  -0.3632067\n",
      "   9.8400280\n",
      " S4  = \n",
      "   9.8400280\n",
      "  -4.4768213\n",
      "  -0.3632067"
     ]
    }
   ],
   "source": [
    "// Gerando uma matriz simétrica\n",
    "A4 = 20 * rand(3, 3) - 10;\n",
    "A4 = round((A4 + A4')/2)\n",
    " \n",
    "// Vendo quais são seus autovalores\n",
    "autovalores = spec(A4)\n",
    "\n",
    "// Calculando esses autovalores com nossa função\n",
    "S4 = espectro(A4, 10^(-8))"
   ]
  },
  {
   "cell_type": "code",
   "execution_count": 110,
   "metadata": {},
   "outputs": [
    {
     "name": "stdout",
     "output_type": "stream",
     "text": [
      " A5  = \n",
      "  -10.  -2.  -7.  -1.\n",
      "  -2.    4.   1.   1.\n",
      "  -7.    1.  -7.  -3.\n",
      "  -1.    1.  -3.  -5.\n",
      " autovalores  = \n",
      "  -16.316859\n",
      "  -5.5016052\n",
      "  -0.9370026\n",
      "   4.7554671\n",
      " S5  = \n",
      "  -16.316859\n",
      "  -5.5016049\n",
      "   4.7554669\n",
      "  -0.9370026"
     ]
    }
   ],
   "source": [
    "A5 = 20 * rand(4, 4) - 10;\n",
    "A5 = round((A5 + A5')/2)\n",
    " \n",
    "autovalores = spec(A5)\n",
    "\n",
    "S5 = espectro(A5, 10^(-7))"
   ]
  },
  {
   "cell_type": "code",
   "execution_count": 111,
   "metadata": {},
   "outputs": [
    {
     "name": "stdout",
     "output_type": "stream",
     "text": [
      " A6  = \n",
      "   9.   1.   5.   2.   5.\n",
      "   1.  -9.   1.   4.  -1.\n",
      "   5.   1.   5.   4.  -1.\n",
      "   2.   4.   4.  -7.  -3.\n",
      "   5.  -1.  -1.  -3.  -6.\n",
      " autovalores  = \n",
      "  -12.599706\n",
      "  -9.3512946\n",
      "  -4.0616507\n",
      "   4.2589108\n",
      "   13.753740\n",
      " S6  = \n",
      "   13.753740\n",
      "  -12.599706\n",
      "  -9.3512946\n",
      "   4.2589013\n",
      "  -4.0616413"
     ]
    }
   ],
   "source": [
    "A6 = 20 * rand(5, 5) - 10;\n",
    "A6 = round((A6 + A6')/2)\n",
    " \n",
    "autovalores = spec(A6)\n",
    "\n",
    "S6 = espectro(A6, 10^(-6))"
   ]
  },
  {
   "cell_type": "markdown",
   "metadata": {},
   "source": [
    "Nossa função está funcionando perfeitamente!"
   ]
  }
 ],
 "metadata": {
  "kernelspec": {
   "display_name": "Scilab",
   "language": "scilab",
   "name": "scilab"
  },
  "language_info": {
   "file_extension": ".sci",
   "help_links": [
    {
     "text": "MetaKernel Magics",
     "url": "https://metakernel.readthedocs.io/en/latest/source/README.html"
    }
   ],
   "mimetype": "text/x-scilab",
   "name": "scilab",
   "version": "0.10.1"
  }
 },
 "nbformat": 4,
 "nbformat_minor": 2
}
